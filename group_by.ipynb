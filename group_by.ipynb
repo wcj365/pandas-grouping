{
  "nbformat": 4,
  "nbformat_minor": 0,
  "metadata": {
    "colab": {
      "name": "group_by.ipynb",
      "provenance": [],
      "authorship_tag": "ABX9TyM53LOR/b3WOU4dL7Nv0BTJ",
      "include_colab_link": true
    },
    "kernelspec": {
      "name": "python3",
      "display_name": "Python 3"
    }
  },
  "cells": [
    {
      "cell_type": "markdown",
      "metadata": {
        "id": "view-in-github",
        "colab_type": "text"
      },
      "source": [
        "<a href=\"https://colab.research.google.com/github/wcj365/pandas-grouping/blob/master/group_by.ipynb\" target=\"_parent\"><img src=\"https://colab.research.google.com/assets/colab-badge.svg\" alt=\"Open In Colab\"/></a>"
      ]
    },
    {
      "cell_type": "code",
      "metadata": {
        "id": "QU4gkU0KSAsP",
        "colab_type": "code",
        "colab": {
          "base_uri": "https://localhost:8080/",
          "height": 153
        },
        "outputId": "d748c249-4fa0-45a3-8c17-4bf644acd7f2"
      },
      "source": [
        "!pip install faker"
      ],
      "execution_count": 3,
      "outputs": [
        {
          "output_type": "stream",
          "text": [
            "Collecting faker\n",
            "\u001b[?25l  Downloading https://files.pythonhosted.org/packages/2a/6f/2a868e12996ea630a4591aa967cb934e411d94e42da12e1dd141b66d0070/Faker-4.0.2-py3-none-any.whl (1.0MB)\n",
            "\r\u001b[K     |▎                               | 10kB 15.1MB/s eta 0:00:01\r\u001b[K     |▋                               | 20kB 3.3MB/s eta 0:00:01\r\u001b[K     |█                               | 30kB 4.7MB/s eta 0:00:01\r\u001b[K     |█▎                              | 40kB 3.0MB/s eta 0:00:01\r\u001b[K     |█▋                              | 51kB 3.7MB/s eta 0:00:01\r\u001b[K     |██                              | 61kB 4.3MB/s eta 0:00:01\r\u001b[K     |██▎                             | 71kB 5.0MB/s eta 0:00:01\r\u001b[K     |██▋                             | 81kB 4.0MB/s eta 0:00:01\r\u001b[K     |███                             | 92kB 4.4MB/s eta 0:00:01\r\u001b[K     |███▎                            | 102kB 4.8MB/s eta 0:00:01\r\u001b[K     |███▋                            | 112kB 4.8MB/s eta 0:00:01\r\u001b[K     |████                            | 122kB 4.8MB/s eta 0:00:01\r\u001b[K     |████▎                           | 133kB 4.8MB/s eta 0:00:01\r\u001b[K     |████▋                           | 143kB 4.8MB/s eta 0:00:01\r\u001b[K     |█████                           | 153kB 4.8MB/s eta 0:00:01\r\u001b[K     |█████▎                          | 163kB 4.8MB/s eta 0:00:01\r\u001b[K     |█████▋                          | 174kB 4.8MB/s eta 0:00:01\r\u001b[K     |█████▉                          | 184kB 4.8MB/s eta 0:00:01\r\u001b[K     |██████▏                         | 194kB 4.8MB/s eta 0:00:01\r\u001b[K     |██████▌                         | 204kB 4.8MB/s eta 0:00:01\r\u001b[K     |██████▉                         | 215kB 4.8MB/s eta 0:00:01\r\u001b[K     |███████▏                        | 225kB 4.8MB/s eta 0:00:01\r\u001b[K     |███████▌                        | 235kB 4.8MB/s eta 0:00:01\r\u001b[K     |███████▉                        | 245kB 4.8MB/s eta 0:00:01\r\u001b[K     |████████▏                       | 256kB 4.8MB/s eta 0:00:01\r\u001b[K     |████████▌                       | 266kB 4.8MB/s eta 0:00:01\r\u001b[K     |████████▉                       | 276kB 4.8MB/s eta 0:00:01\r\u001b[K     |█████████▏                      | 286kB 4.8MB/s eta 0:00:01\r\u001b[K     |█████████▌                      | 296kB 4.8MB/s eta 0:00:01\r\u001b[K     |█████████▉                      | 307kB 4.8MB/s eta 0:00:01\r\u001b[K     |██████████▏                     | 317kB 4.8MB/s eta 0:00:01\r\u001b[K     |██████████▌                     | 327kB 4.8MB/s eta 0:00:01\r\u001b[K     |██████████▉                     | 337kB 4.8MB/s eta 0:00:01\r\u001b[K     |███████████▏                    | 348kB 4.8MB/s eta 0:00:01\r\u001b[K     |███████████▍                    | 358kB 4.8MB/s eta 0:00:01\r\u001b[K     |███████████▊                    | 368kB 4.8MB/s eta 0:00:01\r\u001b[K     |████████████                    | 378kB 4.8MB/s eta 0:00:01\r\u001b[K     |████████████▍                   | 389kB 4.8MB/s eta 0:00:01\r\u001b[K     |████████████▊                   | 399kB 4.8MB/s eta 0:00:01\r\u001b[K     |█████████████                   | 409kB 4.8MB/s eta 0:00:01\r\u001b[K     |█████████████▍                  | 419kB 4.8MB/s eta 0:00:01\r\u001b[K     |█████████████▊                  | 430kB 4.8MB/s eta 0:00:01\r\u001b[K     |██████████████                  | 440kB 4.8MB/s eta 0:00:01\r\u001b[K     |██████████████▍                 | 450kB 4.8MB/s eta 0:00:01\r\u001b[K     |██████████████▊                 | 460kB 4.8MB/s eta 0:00:01\r\u001b[K     |███████████████                 | 471kB 4.8MB/s eta 0:00:01\r\u001b[K     |███████████████▍                | 481kB 4.8MB/s eta 0:00:01\r\u001b[K     |███████████████▊                | 491kB 4.8MB/s eta 0:00:01\r\u001b[K     |████████████████                | 501kB 4.8MB/s eta 0:00:01\r\u001b[K     |████████████████▍               | 512kB 4.8MB/s eta 0:00:01\r\u001b[K     |████████████████▊               | 522kB 4.8MB/s eta 0:00:01\r\u001b[K     |█████████████████               | 532kB 4.8MB/s eta 0:00:01\r\u001b[K     |█████████████████▎              | 542kB 4.8MB/s eta 0:00:01\r\u001b[K     |█████████████████▋              | 552kB 4.8MB/s eta 0:00:01\r\u001b[K     |██████████████████              | 563kB 4.8MB/s eta 0:00:01\r\u001b[K     |██████████████████▎             | 573kB 4.8MB/s eta 0:00:01\r\u001b[K     |██████████████████▋             | 583kB 4.8MB/s eta 0:00:01\r\u001b[K     |███████████████████             | 593kB 4.8MB/s eta 0:00:01\r\u001b[K     |███████████████████▎            | 604kB 4.8MB/s eta 0:00:01\r\u001b[K     |███████████████████▋            | 614kB 4.8MB/s eta 0:00:01\r\u001b[K     |████████████████████            | 624kB 4.8MB/s eta 0:00:01\r\u001b[K     |████████████████████▎           | 634kB 4.8MB/s eta 0:00:01\r\u001b[K     |████████████████████▋           | 645kB 4.8MB/s eta 0:00:01\r\u001b[K     |█████████████████████           | 655kB 4.8MB/s eta 0:00:01\r\u001b[K     |█████████████████████▎          | 665kB 4.8MB/s eta 0:00:01\r\u001b[K     |█████████████████████▋          | 675kB 4.8MB/s eta 0:00:01\r\u001b[K     |██████████████████████          | 686kB 4.8MB/s eta 0:00:01\r\u001b[K     |██████████████████████▎         | 696kB 4.8MB/s eta 0:00:01\r\u001b[K     |██████████████████████▌         | 706kB 4.8MB/s eta 0:00:01\r\u001b[K     |██████████████████████▉         | 716kB 4.8MB/s eta 0:00:01\r\u001b[K     |███████████████████████▏        | 727kB 4.8MB/s eta 0:00:01\r\u001b[K     |███████████████████████▌        | 737kB 4.8MB/s eta 0:00:01\r\u001b[K     |███████████████████████▉        | 747kB 4.8MB/s eta 0:00:01\r\u001b[K     |████████████████████████▏       | 757kB 4.8MB/s eta 0:00:01\r\u001b[K     |████████████████████████▌       | 768kB 4.8MB/s eta 0:00:01\r\u001b[K     |████████████████████████▉       | 778kB 4.8MB/s eta 0:00:01\r\u001b[K     |█████████████████████████▏      | 788kB 4.8MB/s eta 0:00:01\r\u001b[K     |█████████████████████████▌      | 798kB 4.8MB/s eta 0:00:01\r\u001b[K     |█████████████████████████▉      | 808kB 4.8MB/s eta 0:00:01\r\u001b[K     |██████████████████████████▏     | 819kB 4.8MB/s eta 0:00:01\r\u001b[K     |██████████████████████████▌     | 829kB 4.8MB/s eta 0:00:01\r\u001b[K     |██████████████████████████▉     | 839kB 4.8MB/s eta 0:00:01\r\u001b[K     |███████████████████████████▏    | 849kB 4.8MB/s eta 0:00:01\r\u001b[K     |███████████████████████████▌    | 860kB 4.8MB/s eta 0:00:01\r\u001b[K     |███████████████████████████▉    | 870kB 4.8MB/s eta 0:00:01\r\u001b[K     |████████████████████████████    | 880kB 4.8MB/s eta 0:00:01\r\u001b[K     |████████████████████████████▍   | 890kB 4.8MB/s eta 0:00:01\r\u001b[K     |████████████████████████████▊   | 901kB 4.8MB/s eta 0:00:01\r\u001b[K     |█████████████████████████████   | 911kB 4.8MB/s eta 0:00:01\r\u001b[K     |█████████████████████████████▍  | 921kB 4.8MB/s eta 0:00:01\r\u001b[K     |█████████████████████████████▊  | 931kB 4.8MB/s eta 0:00:01\r\u001b[K     |██████████████████████████████  | 942kB 4.8MB/s eta 0:00:01\r\u001b[K     |██████████████████████████████▍ | 952kB 4.8MB/s eta 0:00:01\r\u001b[K     |██████████████████████████████▊ | 962kB 4.8MB/s eta 0:00:01\r\u001b[K     |███████████████████████████████ | 972kB 4.8MB/s eta 0:00:01\r\u001b[K     |███████████████████████████████▍| 983kB 4.8MB/s eta 0:00:01\r\u001b[K     |███████████████████████████████▊| 993kB 4.8MB/s eta 0:00:01\r\u001b[K     |████████████████████████████████| 1.0MB 4.8MB/s \n",
            "\u001b[?25hRequirement already satisfied: python-dateutil>=2.4 in /usr/local/lib/python3.6/dist-packages (from faker) (2.8.1)\n",
            "Requirement already satisfied: text-unidecode==1.3 in /usr/local/lib/python3.6/dist-packages (from faker) (1.3)\n",
            "Requirement already satisfied: six>=1.5 in /usr/local/lib/python3.6/dist-packages (from python-dateutil>=2.4->faker) (1.12.0)\n",
            "Installing collected packages: faker\n",
            "Successfully installed faker-4.0.2\n"
          ],
          "name": "stdout"
        }
      ]
    },
    {
      "cell_type": "code",
      "metadata": {
        "id": "lWPAORr4QJ2Y",
        "colab_type": "code",
        "colab": {}
      },
      "source": [
        "\n",
        "from random import randint\n",
        "import pandas as pd\n",
        "import random \n",
        "from faker import Faker\n",
        "import csv\n"
      ],
      "execution_count": 0,
      "outputs": []
    },
    {
      "cell_type": "code",
      "metadata": {
        "id": "01vsJGK1QxSO",
        "colab_type": "code",
        "colab": {
          "base_uri": "https://localhost:8080/",
          "height": 187
        },
        "outputId": "ba5d9efe-ce55-4478-af38-17dbe793e4d8"
      },
      "source": [
        "fake= Faker()\n",
        "\n",
        "persons = []              # initialize a list to hold the geerated entries\n",
        "\n",
        "column_labels =[          # attributes of a person     \n",
        "    'id',\n",
        "    'Name',\n",
        "    \"Year\",\n",
        "    'Gender',\n",
        "    'State',\n",
        "    'Count'\n",
        "]\n",
        "\n",
        "for i in range(100):  # loop through the number of entries \n",
        "                                         # generate one fake observation/person \n",
        "    person = []\n",
        "    person.append(i)\n",
        "    person.append(fake.name().split(\" \")[0])\n",
        "    person.append(str(random.randint(1990,2000)))\n",
        "    person.append(random.choice(['Female' , 'Male'] ))\n",
        "    person.append(fake.state())\n",
        "    person.append(randint(50, 3000))\n",
        "\n",
        "    persons.append(person)   \n",
        "\n",
        "persons[:10]\n",
        "    "
      ],
      "execution_count": 19,
      "outputs": [
        {
          "output_type": "execute_result",
          "data": {
            "text/plain": [
              "[[0, 'Ricardo', '1990', 'Male', 'Washington', 267],\n",
              " [1, 'Patricia', '1994', 'Male', 'Georgia', 879],\n",
              " [2, 'Michelle', '1995', 'Male', 'New York', 2242],\n",
              " [3, 'Sarah', '1998', 'Female', 'Washington', 2261],\n",
              " [4, 'Kristen', '1993', 'Male', 'North Carolina', 2254],\n",
              " [5, 'Melissa', '2000', 'Female', 'South Dakota', 1092],\n",
              " [6, 'Daniel', '2000', 'Female', 'Iowa', 2913],\n",
              " [7, 'Tanya', '1999', 'Male', 'North Carolina', 1092],\n",
              " [8, 'Michael', '1998', 'Male', 'Arkansas', 614],\n",
              " [9, 'Dustin', '1992', 'Male', 'Mississippi', 197]]"
            ]
          },
          "metadata": {
            "tags": []
          },
          "execution_count": 19
        }
      ]
    },
    {
      "cell_type": "code",
      "metadata": {
        "id": "ysxfjHs2UxsN",
        "colab_type": "code",
        "colab": {
          "base_uri": "https://localhost:8080/",
          "height": 204
        },
        "outputId": "3f5c881f-9301-4541-f103-6a37d5ef4aeb"
      },
      "source": [
        "df = pd.DataFrame(persons, columns=column_labels)\n",
        "df.head()"
      ],
      "execution_count": 20,
      "outputs": [
        {
          "output_type": "execute_result",
          "data": {
            "text/html": [
              "<div>\n",
              "<style scoped>\n",
              "    .dataframe tbody tr th:only-of-type {\n",
              "        vertical-align: middle;\n",
              "    }\n",
              "\n",
              "    .dataframe tbody tr th {\n",
              "        vertical-align: top;\n",
              "    }\n",
              "\n",
              "    .dataframe thead th {\n",
              "        text-align: right;\n",
              "    }\n",
              "</style>\n",
              "<table border=\"1\" class=\"dataframe\">\n",
              "  <thead>\n",
              "    <tr style=\"text-align: right;\">\n",
              "      <th></th>\n",
              "      <th>id</th>\n",
              "      <th>Name</th>\n",
              "      <th>Year</th>\n",
              "      <th>Gender</th>\n",
              "      <th>State</th>\n",
              "      <th>Count</th>\n",
              "    </tr>\n",
              "  </thead>\n",
              "  <tbody>\n",
              "    <tr>\n",
              "      <th>0</th>\n",
              "      <td>0</td>\n",
              "      <td>Ricardo</td>\n",
              "      <td>1990</td>\n",
              "      <td>Male</td>\n",
              "      <td>Washington</td>\n",
              "      <td>267</td>\n",
              "    </tr>\n",
              "    <tr>\n",
              "      <th>1</th>\n",
              "      <td>1</td>\n",
              "      <td>Patricia</td>\n",
              "      <td>1994</td>\n",
              "      <td>Male</td>\n",
              "      <td>Georgia</td>\n",
              "      <td>879</td>\n",
              "    </tr>\n",
              "    <tr>\n",
              "      <th>2</th>\n",
              "      <td>2</td>\n",
              "      <td>Michelle</td>\n",
              "      <td>1995</td>\n",
              "      <td>Male</td>\n",
              "      <td>New York</td>\n",
              "      <td>2242</td>\n",
              "    </tr>\n",
              "    <tr>\n",
              "      <th>3</th>\n",
              "      <td>3</td>\n",
              "      <td>Sarah</td>\n",
              "      <td>1998</td>\n",
              "      <td>Female</td>\n",
              "      <td>Washington</td>\n",
              "      <td>2261</td>\n",
              "    </tr>\n",
              "    <tr>\n",
              "      <th>4</th>\n",
              "      <td>4</td>\n",
              "      <td>Kristen</td>\n",
              "      <td>1993</td>\n",
              "      <td>Male</td>\n",
              "      <td>North Carolina</td>\n",
              "      <td>2254</td>\n",
              "    </tr>\n",
              "  </tbody>\n",
              "</table>\n",
              "</div>"
            ],
            "text/plain": [
              "   id      Name  Year  Gender           State  Count\n",
              "0   0   Ricardo  1990    Male      Washington    267\n",
              "1   1  Patricia  1994    Male         Georgia    879\n",
              "2   2  Michelle  1995    Male        New York   2242\n",
              "3   3     Sarah  1998  Female      Washington   2261\n",
              "4   4   Kristen  1993    Male  North Carolina   2254"
            ]
          },
          "metadata": {
            "tags": []
          },
          "execution_count": 20
        }
      ]
    },
    {
      "cell_type": "code",
      "metadata": {
        "id": "wTD2HcBLViYd",
        "colab_type": "code",
        "colab": {
          "base_uri": "https://localhost:8080/",
          "height": 450
        },
        "outputId": "ec7439a1-0900-46e3-fc5f-c8887856832b"
      },
      "source": [
        "g = df.groupby([\"Year\",\"Name\"]).agg({\"Count\":\"sum\"})\n",
        "g"
      ],
      "execution_count": 21,
      "outputs": [
        {
          "output_type": "execute_result",
          "data": {
            "text/html": [
              "<div>\n",
              "<style scoped>\n",
              "    .dataframe tbody tr th:only-of-type {\n",
              "        vertical-align: middle;\n",
              "    }\n",
              "\n",
              "    .dataframe tbody tr th {\n",
              "        vertical-align: top;\n",
              "    }\n",
              "\n",
              "    .dataframe thead th {\n",
              "        text-align: right;\n",
              "    }\n",
              "</style>\n",
              "<table border=\"1\" class=\"dataframe\">\n",
              "  <thead>\n",
              "    <tr style=\"text-align: right;\">\n",
              "      <th></th>\n",
              "      <th></th>\n",
              "      <th>Count</th>\n",
              "    </tr>\n",
              "    <tr>\n",
              "      <th>Year</th>\n",
              "      <th>Name</th>\n",
              "      <th></th>\n",
              "    </tr>\n",
              "  </thead>\n",
              "  <tbody>\n",
              "    <tr>\n",
              "      <th rowspan=\"5\" valign=\"top\">1990</th>\n",
              "      <th>Brittany</th>\n",
              "      <td>1891</td>\n",
              "    </tr>\n",
              "    <tr>\n",
              "      <th>Jeffrey</th>\n",
              "      <td>86</td>\n",
              "    </tr>\n",
              "    <tr>\n",
              "      <th>Jennifer</th>\n",
              "      <td>861</td>\n",
              "    </tr>\n",
              "    <tr>\n",
              "      <th>Keith</th>\n",
              "      <td>1907</td>\n",
              "    </tr>\n",
              "    <tr>\n",
              "      <th>Ricardo</th>\n",
              "      <td>267</td>\n",
              "    </tr>\n",
              "    <tr>\n",
              "      <th>...</th>\n",
              "      <th>...</th>\n",
              "      <td>...</td>\n",
              "    </tr>\n",
              "    <tr>\n",
              "      <th rowspan=\"5\" valign=\"top\">2000</th>\n",
              "      <th>Nichole</th>\n",
              "      <td>2892</td>\n",
              "    </tr>\n",
              "    <tr>\n",
              "      <th>Ryan</th>\n",
              "      <td>2085</td>\n",
              "    </tr>\n",
              "    <tr>\n",
              "      <th>Samantha</th>\n",
              "      <td>2513</td>\n",
              "    </tr>\n",
              "    <tr>\n",
              "      <th>Shirley</th>\n",
              "      <td>1957</td>\n",
              "    </tr>\n",
              "    <tr>\n",
              "      <th>Traci</th>\n",
              "      <td>1735</td>\n",
              "    </tr>\n",
              "  </tbody>\n",
              "</table>\n",
              "<p>100 rows × 1 columns</p>\n",
              "</div>"
            ],
            "text/plain": [
              "               Count\n",
              "Year Name           \n",
              "1990 Brittany   1891\n",
              "     Jeffrey      86\n",
              "     Jennifer    861\n",
              "     Keith      1907\n",
              "     Ricardo     267\n",
              "...              ...\n",
              "2000 Nichole    2892\n",
              "     Ryan       2085\n",
              "     Samantha   2513\n",
              "     Shirley    1957\n",
              "     Traci      1735\n",
              "\n",
              "[100 rows x 1 columns]"
            ]
          },
          "metadata": {
            "tags": []
          },
          "execution_count": 21
        }
      ]
    },
    {
      "cell_type": "code",
      "metadata": {
        "id": "yY9tYyXTV64q",
        "colab_type": "code",
        "colab": {
          "base_uri": "https://localhost:8080/",
          "height": 419
        },
        "outputId": "4e31ef7f-f0ee-4628-a602-f41cdfcdadf1"
      },
      "source": [
        "g2 = g.reset_index()\n",
        "g2"
      ],
      "execution_count": 22,
      "outputs": [
        {
          "output_type": "execute_result",
          "data": {
            "text/html": [
              "<div>\n",
              "<style scoped>\n",
              "    .dataframe tbody tr th:only-of-type {\n",
              "        vertical-align: middle;\n",
              "    }\n",
              "\n",
              "    .dataframe tbody tr th {\n",
              "        vertical-align: top;\n",
              "    }\n",
              "\n",
              "    .dataframe thead th {\n",
              "        text-align: right;\n",
              "    }\n",
              "</style>\n",
              "<table border=\"1\" class=\"dataframe\">\n",
              "  <thead>\n",
              "    <tr style=\"text-align: right;\">\n",
              "      <th></th>\n",
              "      <th>Year</th>\n",
              "      <th>Name</th>\n",
              "      <th>Count</th>\n",
              "    </tr>\n",
              "  </thead>\n",
              "  <tbody>\n",
              "    <tr>\n",
              "      <th>0</th>\n",
              "      <td>1990</td>\n",
              "      <td>Brittany</td>\n",
              "      <td>1891</td>\n",
              "    </tr>\n",
              "    <tr>\n",
              "      <th>1</th>\n",
              "      <td>1990</td>\n",
              "      <td>Jeffrey</td>\n",
              "      <td>86</td>\n",
              "    </tr>\n",
              "    <tr>\n",
              "      <th>2</th>\n",
              "      <td>1990</td>\n",
              "      <td>Jennifer</td>\n",
              "      <td>861</td>\n",
              "    </tr>\n",
              "    <tr>\n",
              "      <th>3</th>\n",
              "      <td>1990</td>\n",
              "      <td>Keith</td>\n",
              "      <td>1907</td>\n",
              "    </tr>\n",
              "    <tr>\n",
              "      <th>4</th>\n",
              "      <td>1990</td>\n",
              "      <td>Ricardo</td>\n",
              "      <td>267</td>\n",
              "    </tr>\n",
              "    <tr>\n",
              "      <th>...</th>\n",
              "      <td>...</td>\n",
              "      <td>...</td>\n",
              "      <td>...</td>\n",
              "    </tr>\n",
              "    <tr>\n",
              "      <th>95</th>\n",
              "      <td>2000</td>\n",
              "      <td>Nichole</td>\n",
              "      <td>2892</td>\n",
              "    </tr>\n",
              "    <tr>\n",
              "      <th>96</th>\n",
              "      <td>2000</td>\n",
              "      <td>Ryan</td>\n",
              "      <td>2085</td>\n",
              "    </tr>\n",
              "    <tr>\n",
              "      <th>97</th>\n",
              "      <td>2000</td>\n",
              "      <td>Samantha</td>\n",
              "      <td>2513</td>\n",
              "    </tr>\n",
              "    <tr>\n",
              "      <th>98</th>\n",
              "      <td>2000</td>\n",
              "      <td>Shirley</td>\n",
              "      <td>1957</td>\n",
              "    </tr>\n",
              "    <tr>\n",
              "      <th>99</th>\n",
              "      <td>2000</td>\n",
              "      <td>Traci</td>\n",
              "      <td>1735</td>\n",
              "    </tr>\n",
              "  </tbody>\n",
              "</table>\n",
              "<p>100 rows × 3 columns</p>\n",
              "</div>"
            ],
            "text/plain": [
              "    Year      Name  Count\n",
              "0   1990  Brittany   1891\n",
              "1   1990   Jeffrey     86\n",
              "2   1990  Jennifer    861\n",
              "3   1990     Keith   1907\n",
              "4   1990   Ricardo    267\n",
              "..   ...       ...    ...\n",
              "95  2000   Nichole   2892\n",
              "96  2000      Ryan   2085\n",
              "97  2000  Samantha   2513\n",
              "98  2000   Shirley   1957\n",
              "99  2000     Traci   1735\n",
              "\n",
              "[100 rows x 3 columns]"
            ]
          },
          "metadata": {
            "tags": []
          },
          "execution_count": 22
        }
      ]
    }
  ]
}