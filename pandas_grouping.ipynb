{
  "nbformat": 4,
  "nbformat_minor": 0,
  "metadata": {
    "colab": {
      "name": "pandas_grouping.ipynb",
      "provenance": [],
      "authorship_tag": "ABX9TyMaykiLrvdRjbbOSPpIV1Sj",
      "include_colab_link": true
    },
    "kernelspec": {
      "name": "python3",
      "display_name": "Python 3"
    }
  },
  "cells": [
    {
      "cell_type": "markdown",
      "metadata": {
        "id": "view-in-github",
        "colab_type": "text"
      },
      "source": [
        "<a href=\"https://colab.research.google.com/github/wcj365/pandas-grouping/blob/master/pandas_grouping.ipynb\" target=\"_parent\"><img src=\"https://colab.research.google.com/assets/colab-badge.svg\" alt=\"Open In Colab\"/></a>"
      ]
    },
    {
      "cell_type": "markdown",
      "metadata": {
        "id": "CmKyc63KWBks",
        "colab_type": "text"
      },
      "source": [
        "# Pandas Grouping\n",
        "References:\n",
        "- Blog: https://www.shanelynn.ie/summarising-aggregation-and-grouping-data-in-python-pandas/\n",
        "\n",
        "- Data: https://shanelynnwebsite-mid9n9g1q9y8tt.netdna-ssl.com/wp-content/uploads/2015/06/phone_data.csv\n",
        "\n",
        "- Data Elements\n",
        "    - date: The date and time of the entry\n",
        "    - duration: The duration (in seconds) for each call, the amount of data (in MB) for each data entry, and the number of texts sent (usually 1) for each sms entry.\n",
        "    - item: A description of the event occurring – can be one of call, sms, or data.\n",
        "    - month: The billing month that each entry belongs to – of form ‘YYYY-MM’.\n",
        "    - network: The mobile network that was called/texted for each entry.\n",
        "    - network_type: Whether the number being called was a mobile,     international (‘world’), voicemail, landline, or other (‘special’) number."
      ]
    },
    {
      "cell_type": "code",
      "metadata": {
        "id": "R0RuDk2rzuE5",
        "colab_type": "code",
        "colab": {}
      },
      "source": [
        "import pandas as pd\n"
      ],
      "execution_count": 0,
      "outputs": []
    },
    {
      "cell_type": "code",
      "metadata": {
        "id": "hNl1eQA5VODz",
        "colab_type": "code",
        "colab": {
          "base_uri": "https://localhost:8080/",
          "height": 202
        },
        "outputId": "0cd3f27e-b6e5-40fe-ee99-da8d09a8eacc"
      },
      "source": [
        "DATA_URL = \"https://shanelynnwebsite-mid9n9g1q9y8tt.netdna-ssl.com/wp-content/uploads/2015/06/phone_data.csv\"\n",
        "\n",
        "df = pd.read_csv(DATA_URL)\n",
        "df.head()"
      ],
      "execution_count": 24,
      "outputs": [
        {
          "output_type": "execute_result",
          "data": {
            "text/html": [
              "<div>\n",
              "<style scoped>\n",
              "    .dataframe tbody tr th:only-of-type {\n",
              "        vertical-align: middle;\n",
              "    }\n",
              "\n",
              "    .dataframe tbody tr th {\n",
              "        vertical-align: top;\n",
              "    }\n",
              "\n",
              "    .dataframe thead th {\n",
              "        text-align: right;\n",
              "    }\n",
              "</style>\n",
              "<table border=\"1\" class=\"dataframe\">\n",
              "  <thead>\n",
              "    <tr style=\"text-align: right;\">\n",
              "      <th></th>\n",
              "      <th>index</th>\n",
              "      <th>date</th>\n",
              "      <th>duration</th>\n",
              "      <th>item</th>\n",
              "      <th>month</th>\n",
              "      <th>network</th>\n",
              "      <th>network_type</th>\n",
              "    </tr>\n",
              "  </thead>\n",
              "  <tbody>\n",
              "    <tr>\n",
              "      <th>0</th>\n",
              "      <td>0</td>\n",
              "      <td>15/10/14 06:58</td>\n",
              "      <td>34.429</td>\n",
              "      <td>data</td>\n",
              "      <td>2014-11</td>\n",
              "      <td>data</td>\n",
              "      <td>data</td>\n",
              "    </tr>\n",
              "    <tr>\n",
              "      <th>1</th>\n",
              "      <td>1</td>\n",
              "      <td>15/10/14 06:58</td>\n",
              "      <td>13.000</td>\n",
              "      <td>call</td>\n",
              "      <td>2014-11</td>\n",
              "      <td>Vodafone</td>\n",
              "      <td>mobile</td>\n",
              "    </tr>\n",
              "    <tr>\n",
              "      <th>2</th>\n",
              "      <td>2</td>\n",
              "      <td>15/10/14 14:46</td>\n",
              "      <td>23.000</td>\n",
              "      <td>call</td>\n",
              "      <td>2014-11</td>\n",
              "      <td>Meteor</td>\n",
              "      <td>mobile</td>\n",
              "    </tr>\n",
              "    <tr>\n",
              "      <th>3</th>\n",
              "      <td>3</td>\n",
              "      <td>15/10/14 14:48</td>\n",
              "      <td>4.000</td>\n",
              "      <td>call</td>\n",
              "      <td>2014-11</td>\n",
              "      <td>Tesco</td>\n",
              "      <td>mobile</td>\n",
              "    </tr>\n",
              "    <tr>\n",
              "      <th>4</th>\n",
              "      <td>4</td>\n",
              "      <td>15/10/14 17:27</td>\n",
              "      <td>4.000</td>\n",
              "      <td>call</td>\n",
              "      <td>2014-11</td>\n",
              "      <td>Tesco</td>\n",
              "      <td>mobile</td>\n",
              "    </tr>\n",
              "  </tbody>\n",
              "</table>\n",
              "</div>"
            ],
            "text/plain": [
              "   index            date  duration  item    month   network network_type\n",
              "0      0  15/10/14 06:58    34.429  data  2014-11      data         data\n",
              "1      1  15/10/14 06:58    13.000  call  2014-11  Vodafone       mobile\n",
              "2      2  15/10/14 14:46    23.000  call  2014-11    Meteor       mobile\n",
              "3      3  15/10/14 14:48     4.000  call  2014-11     Tesco       mobile\n",
              "4      4  15/10/14 17:27     4.000  call  2014-11     Tesco       mobile"
            ]
          },
          "metadata": {
            "tags": []
          },
          "execution_count": 24
        }
      ]
    },
    {
      "cell_type": "code",
      "metadata": {
        "id": "4fiE5uUlVlQT",
        "colab_type": "code",
        "colab": {
          "base_uri": "https://localhost:8080/",
          "height": 225
        },
        "outputId": "69d2585f-d2d6-4c99-b295-443856ed7bcf"
      },
      "source": [
        "df.info()"
      ],
      "execution_count": 25,
      "outputs": [
        {
          "output_type": "stream",
          "text": [
            "<class 'pandas.core.frame.DataFrame'>\n",
            "RangeIndex: 830 entries, 0 to 829\n",
            "Data columns (total 7 columns):\n",
            "index           830 non-null int64\n",
            "date            830 non-null object\n",
            "duration        830 non-null float64\n",
            "item            830 non-null object\n",
            "month           830 non-null object\n",
            "network         830 non-null object\n",
            "network_type    830 non-null object\n",
            "dtypes: float64(1), int64(1), object(5)\n",
            "memory usage: 45.5+ KB\n"
          ],
          "name": "stdout"
        }
      ]
    },
    {
      "cell_type": "code",
      "metadata": {
        "id": "ZUTxrli6XHG2",
        "colab_type": "code",
        "colab": {
          "base_uri": "https://localhost:8080/",
          "height": 79
        },
        "outputId": "6b39feb1-8c69-45ca-f279-ffd3b13ade57"
      },
      "source": [
        "# The column named \"index\" is not useful, drop it\n",
        "\n",
        "df.drop(columns=[\"index\"], inplace=True)\n",
        "df.sample()"
      ],
      "execution_count": 26,
      "outputs": [
        {
          "output_type": "execute_result",
          "data": {
            "text/html": [
              "<div>\n",
              "<style scoped>\n",
              "    .dataframe tbody tr th:only-of-type {\n",
              "        vertical-align: middle;\n",
              "    }\n",
              "\n",
              "    .dataframe tbody tr th {\n",
              "        vertical-align: top;\n",
              "    }\n",
              "\n",
              "    .dataframe thead th {\n",
              "        text-align: right;\n",
              "    }\n",
              "</style>\n",
              "<table border=\"1\" class=\"dataframe\">\n",
              "  <thead>\n",
              "    <tr style=\"text-align: right;\">\n",
              "      <th></th>\n",
              "      <th>date</th>\n",
              "      <th>duration</th>\n",
              "      <th>item</th>\n",
              "      <th>month</th>\n",
              "      <th>network</th>\n",
              "      <th>network_type</th>\n",
              "    </tr>\n",
              "  </thead>\n",
              "  <tbody>\n",
              "    <tr>\n",
              "      <th>239</th>\n",
              "      <td>18/11/14 08:22</td>\n",
              "      <td>1.0</td>\n",
              "      <td>sms</td>\n",
              "      <td>2014-12</td>\n",
              "      <td>Vodafone</td>\n",
              "      <td>mobile</td>\n",
              "    </tr>\n",
              "  </tbody>\n",
              "</table>\n",
              "</div>"
            ],
            "text/plain": [
              "               date  duration item    month   network network_type\n",
              "239  18/11/14 08:22       1.0  sms  2014-12  Vodafone       mobile"
            ]
          },
          "metadata": {
            "tags": []
          },
          "execution_count": 26
        }
      ]
    },
    {
      "cell_type": "code",
      "metadata": {
        "id": "2gZC4XX1YOQL",
        "colab_type": "code",
        "colab": {
          "base_uri": "https://localhost:8080/",
          "height": 87
        },
        "outputId": "eb1a409f-bb31-424a-bbdb-ebe29c309310"
      },
      "source": [
        "# Find out the frequency of the categorical variable \"item\"\n",
        "# The result indicates the person made 388 phone calls, \n",
        "# send and receive 292 text messages, and used mobile data 150 times\n",
        "\n",
        "df[\"item\"].value_counts()"
      ],
      "execution_count": 28,
      "outputs": [
        {
          "output_type": "execute_result",
          "data": {
            "text/plain": [
              "call    388\n",
              "sms     292\n",
              "data    150\n",
              "Name: item, dtype: int64"
            ]
          },
          "metadata": {
            "tags": []
          },
          "execution_count": 28
        }
      ]
    },
    {
      "cell_type": "code",
      "metadata": {
        "id": "8QB0khFSYmSa",
        "colab_type": "code",
        "colab": {
          "base_uri": "https://localhost:8080/",
          "height": 171
        },
        "outputId": "df5373fd-cb3e-40bd-f2fb-5e99f52e6db8"
      },
      "source": [
        "# Find out the average usage of different mode (\"item\") \n",
        "# This syntax returns a Pandas series since \"item\" becomes the row index\n",
        "# and there is only one column \"duration\"\n",
        "\n",
        "df.groupby(\"item\").mean()"
      ],
      "execution_count": 30,
      "outputs": [
        {
          "output_type": "execute_result",
          "data": {
            "text/html": [
              "<div>\n",
              "<style scoped>\n",
              "    .dataframe tbody tr th:only-of-type {\n",
              "        vertical-align: middle;\n",
              "    }\n",
              "\n",
              "    .dataframe tbody tr th {\n",
              "        vertical-align: top;\n",
              "    }\n",
              "\n",
              "    .dataframe thead th {\n",
              "        text-align: right;\n",
              "    }\n",
              "</style>\n",
              "<table border=\"1\" class=\"dataframe\">\n",
              "  <thead>\n",
              "    <tr style=\"text-align: right;\">\n",
              "      <th></th>\n",
              "      <th>duration</th>\n",
              "    </tr>\n",
              "    <tr>\n",
              "      <th>item</th>\n",
              "      <th></th>\n",
              "    </tr>\n",
              "  </thead>\n",
              "  <tbody>\n",
              "    <tr>\n",
              "      <th>call</th>\n",
              "      <td>237.940722</td>\n",
              "    </tr>\n",
              "    <tr>\n",
              "      <th>data</th>\n",
              "      <td>34.429000</td>\n",
              "    </tr>\n",
              "    <tr>\n",
              "      <th>sms</th>\n",
              "      <td>1.000000</td>\n",
              "    </tr>\n",
              "  </tbody>\n",
              "</table>\n",
              "</div>"
            ],
            "text/plain": [
              "        duration\n",
              "item            \n",
              "call  237.940722\n",
              "data   34.429000\n",
              "sms     1.000000"
            ]
          },
          "metadata": {
            "tags": []
          },
          "execution_count": 30
        }
      ]
    },
    {
      "cell_type": "code",
      "metadata": {
        "id": "8HWCrvW3c9cR",
        "colab_type": "code",
        "colab": {
          "base_uri": "https://localhost:8080/",
          "height": 141
        },
        "outputId": "80570bed-6896-42d5-8ba1-ec76b503167a"
      },
      "source": [
        "# This return a data frame due to the use of option as_index = False\n",
        "# This makes \"item\" a column so that we haave two columns \"item\" and \"duratrion\"\n",
        "\n",
        "df.groupby(\"item\",as_index=False).mean()"
      ],
      "execution_count": 37,
      "outputs": [
        {
          "output_type": "execute_result",
          "data": {
            "text/html": [
              "<div>\n",
              "<style scoped>\n",
              "    .dataframe tbody tr th:only-of-type {\n",
              "        vertical-align: middle;\n",
              "    }\n",
              "\n",
              "    .dataframe tbody tr th {\n",
              "        vertical-align: top;\n",
              "    }\n",
              "\n",
              "    .dataframe thead th {\n",
              "        text-align: right;\n",
              "    }\n",
              "</style>\n",
              "<table border=\"1\" class=\"dataframe\">\n",
              "  <thead>\n",
              "    <tr style=\"text-align: right;\">\n",
              "      <th></th>\n",
              "      <th>item</th>\n",
              "      <th>duration</th>\n",
              "    </tr>\n",
              "  </thead>\n",
              "  <tbody>\n",
              "    <tr>\n",
              "      <th>0</th>\n",
              "      <td>call</td>\n",
              "      <td>237.940722</td>\n",
              "    </tr>\n",
              "    <tr>\n",
              "      <th>1</th>\n",
              "      <td>data</td>\n",
              "      <td>34.429000</td>\n",
              "    </tr>\n",
              "    <tr>\n",
              "      <th>2</th>\n",
              "      <td>sms</td>\n",
              "      <td>1.000000</td>\n",
              "    </tr>\n",
              "  </tbody>\n",
              "</table>\n",
              "</div>"
            ],
            "text/plain": [
              "   item    duration\n",
              "0  call  237.940722\n",
              "1  data   34.429000\n",
              "2   sms    1.000000"
            ]
          },
          "metadata": {
            "tags": []
          },
          "execution_count": 37
        }
      ]
    },
    {
      "cell_type": "code",
      "metadata": {
        "id": "x5v8FFFedeAz",
        "colab_type": "code",
        "colab": {
          "base_uri": "https://localhost:8080/",
          "height": 104
        },
        "outputId": "ad4056c5-e5db-4f80-8fdf-68c0e4301122"
      },
      "source": [
        "type(df.groupby(\"item\")[\"duration\"].mean())"
      ],
      "execution_count": 39,
      "outputs": [
        {
          "output_type": "execute_result",
          "data": {
            "text/plain": [
              "item\n",
              "call    237.940722\n",
              "data     34.429000\n",
              "sms       1.000000\n",
              "Name: duration, dtype: float64"
            ]
          },
          "metadata": {
            "tags": []
          },
          "execution_count": 39
        }
      ]
    },
    {
      "cell_type": "code",
      "metadata": {
        "id": "kh45bQx0ZGgb",
        "colab_type": "code",
        "colab": {
          "base_uri": "https://localhost:8080/",
          "height": 171
        },
        "outputId": "a108e501-0040-4547-e5b2-39e2c35d39e9"
      },
      "source": [
        "df.pivot_table(index=\"item\",columns=\"month\", values=\"duration\", aggfunc=\"mean\")"
      ],
      "execution_count": 35,
      "outputs": [
        {
          "output_type": "execute_result",
          "data": {
            "text/html": [
              "<div>\n",
              "<style scoped>\n",
              "    .dataframe tbody tr th:only-of-type {\n",
              "        vertical-align: middle;\n",
              "    }\n",
              "\n",
              "    .dataframe tbody tr th {\n",
              "        vertical-align: top;\n",
              "    }\n",
              "\n",
              "    .dataframe thead th {\n",
              "        text-align: right;\n",
              "    }\n",
              "</style>\n",
              "<table border=\"1\" class=\"dataframe\">\n",
              "  <thead>\n",
              "    <tr style=\"text-align: right;\">\n",
              "      <th>month</th>\n",
              "      <th>2014-11</th>\n",
              "      <th>2014-12</th>\n",
              "      <th>2015-01</th>\n",
              "      <th>2015-02</th>\n",
              "      <th>2015-03</th>\n",
              "    </tr>\n",
              "    <tr>\n",
              "      <th>item</th>\n",
              "      <th></th>\n",
              "      <th></th>\n",
              "      <th></th>\n",
              "      <th></th>\n",
              "      <th></th>\n",
              "    </tr>\n",
              "  </thead>\n",
              "  <tbody>\n",
              "    <tr>\n",
              "      <th>call</th>\n",
              "      <td>238.757009</td>\n",
              "      <td>171.658228</td>\n",
              "      <td>193.977273</td>\n",
              "      <td>215.164179</td>\n",
              "      <td>462.276596</td>\n",
              "    </tr>\n",
              "    <tr>\n",
              "      <th>data</th>\n",
              "      <td>34.429000</td>\n",
              "      <td>34.429000</td>\n",
              "      <td>34.429000</td>\n",
              "      <td>34.429000</td>\n",
              "      <td>34.429000</td>\n",
              "    </tr>\n",
              "    <tr>\n",
              "      <th>sms</th>\n",
              "      <td>1.000000</td>\n",
              "      <td>1.000000</td>\n",
              "      <td>1.000000</td>\n",
              "      <td>1.000000</td>\n",
              "      <td>1.000000</td>\n",
              "    </tr>\n",
              "  </tbody>\n",
              "</table>\n",
              "</div>"
            ],
            "text/plain": [
              "month     2014-11     2014-12     2015-01     2015-02     2015-03\n",
              "item                                                             \n",
              "call   238.757009  171.658228  193.977273  215.164179  462.276596\n",
              "data    34.429000   34.429000   34.429000   34.429000   34.429000\n",
              "sms      1.000000    1.000000    1.000000    1.000000    1.000000"
            ]
          },
          "metadata": {
            "tags": []
          },
          "execution_count": 35
        }
      ]
    }
  ]
}