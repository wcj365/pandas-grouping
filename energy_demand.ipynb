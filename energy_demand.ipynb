{
  "nbformat": 4,
  "nbformat_minor": 0,
  "metadata": {
    "kernelspec": {
      "display_name": "Python 3",
      "language": "python",
      "name": "python3"
    },
    "language_info": {
      "codemirror_mode": {
        "name": "ipython",
        "version": 3
      },
      "file_extension": ".py",
      "mimetype": "text/x-python",
      "name": "python",
      "nbconvert_exporter": "python",
      "pygments_lexer": "ipython3",
      "version": "3.7.4"
    },
    "colab": {
      "name": "energy_demand.ipynb",
      "provenance": [],
      "include_colab_link": true
    }
  },
  "cells": [
    {
      "cell_type": "markdown",
      "metadata": {
        "id": "view-in-github",
        "colab_type": "text"
      },
      "source": [
        "<a href=\"https://colab.research.google.com/github/wcj365/pandas-grouping/blob/master/energy_demand.ipynb\" target=\"_parent\"><img src=\"https://colab.research.google.com/assets/colab-badge.svg\" alt=\"Open In Colab\"/></a>"
      ]
    },
    {
      "cell_type": "markdown",
      "metadata": {
        "id": "OtjvJOrSS6Pz",
        "colab_type": "text"
      },
      "source": [
        "## Pandas Group By\n",
        "\n",
        "Acquire power data (source) for at least 10 days and not more than 40 days. \n",
        "\n",
        "https://www.bmreports.com/bmrs/?q=demand/rollingsystemdemand/historic\n",
        "\n",
        "- Load the data into a Jupyter Notebook. \n",
        "- Create two bar graphs of the power consumption per hour. \n",
        "- One bar graph has 24 bars (average of power consumption per hour for the chosen days); \n",
        "- one bar graph has 24*(number of days) bars (power consumption for every hour in all the days). \n",
        "\n"
      ]
    },
    {
      "cell_type": "code",
      "metadata": {
        "id": "GMzPVeSVJx9y",
        "colab_type": "code",
        "colab": {}
      },
      "source": [
        "import pandas as pd\n",
        "import datetime\n",
        "import matplotlib.pyplot as plt"
      ],
      "execution_count": 0,
      "outputs": []
    },
    {
      "cell_type": "markdown",
      "metadata": {
        "id": "4ikwiae3mvXp",
        "colab_type": "text"
      },
      "source": [
        "## Step 1 - Load the first 6 days of Jan 2020.\n",
        "The site limits number of records to be downloaed to 2000. So we have two files."
      ]
    },
    {
      "cell_type": "code",
      "metadata": {
        "id": "aTEdIW3FJx96",
        "colab_type": "code",
        "colab": {
          "base_uri": "https://localhost:8080/",
          "height": 204
        },
        "outputId": "b5d78b2a-1fcc-4217-f224-76bf147fef75"
      },
      "source": [
        "demand01 = pd.read_csv('RollingSystemDemand01.csv')\n",
        "demand01.sample(5)"
      ],
      "execution_count": 71,
      "outputs": [
        {
          "output_type": "execute_result",
          "data": {
            "text/html": [
              "<div>\n",
              "<style scoped>\n",
              "    .dataframe tbody tr th:only-of-type {\n",
              "        vertical-align: middle;\n",
              "    }\n",
              "\n",
              "    .dataframe tbody tr th {\n",
              "        vertical-align: top;\n",
              "    }\n",
              "\n",
              "    .dataframe thead th {\n",
              "        text-align: right;\n",
              "    }\n",
              "</style>\n",
              "<table border=\"1\" class=\"dataframe\">\n",
              "  <thead>\n",
              "    <tr style=\"text-align: right;\">\n",
              "      <th></th>\n",
              "      <th>HDR</th>\n",
              "      <th>ROLLING SYSTEM DEMAND</th>\n",
              "    </tr>\n",
              "  </thead>\n",
              "  <tbody>\n",
              "    <tr>\n",
              "      <th>VD</th>\n",
              "      <td>20200106122500</td>\n",
              "      <td>36895.0</td>\n",
              "    </tr>\n",
              "    <tr>\n",
              "      <th>VD</th>\n",
              "      <td>20200106140000</td>\n",
              "      <td>38637.0</td>\n",
              "    </tr>\n",
              "    <tr>\n",
              "      <th>VD</th>\n",
              "      <td>20200106162000</td>\n",
              "      <td>41243.0</td>\n",
              "    </tr>\n",
              "    <tr>\n",
              "      <th>VD</th>\n",
              "      <td>20200102143500</td>\n",
              "      <td>37062.0</td>\n",
              "    </tr>\n",
              "    <tr>\n",
              "      <th>VD</th>\n",
              "      <td>20200105104500</td>\n",
              "      <td>32147.0</td>\n",
              "    </tr>\n",
              "  </tbody>\n",
              "</table>\n",
              "</div>"
            ],
            "text/plain": [
              "               HDR  ROLLING SYSTEM DEMAND\n",
              "VD  20200106122500                36895.0\n",
              "VD  20200106140000                38637.0\n",
              "VD  20200106162000                41243.0\n",
              "VD  20200102143500                37062.0\n",
              "VD  20200105104500                32147.0"
            ]
          },
          "metadata": {
            "tags": []
          },
          "execution_count": 71
        }
      ]
    },
    {
      "cell_type": "code",
      "metadata": {
        "id": "6eLkvanmZvaz",
        "colab_type": "code",
        "colab": {
          "base_uri": "https://localhost:8080/",
          "height": 204
        },
        "outputId": "5f6d1632-133f-46b8-f0fe-d140f8a61a7d"
      },
      "source": [
        "demand01.tail()"
      ],
      "execution_count": 72,
      "outputs": [
        {
          "output_type": "execute_result",
          "data": {
            "text/html": [
              "<div>\n",
              "<style scoped>\n",
              "    .dataframe tbody tr th:only-of-type {\n",
              "        vertical-align: middle;\n",
              "    }\n",
              "\n",
              "    .dataframe tbody tr th {\n",
              "        vertical-align: top;\n",
              "    }\n",
              "\n",
              "    .dataframe thead th {\n",
              "        text-align: right;\n",
              "    }\n",
              "</style>\n",
              "<table border=\"1\" class=\"dataframe\">\n",
              "  <thead>\n",
              "    <tr style=\"text-align: right;\">\n",
              "      <th></th>\n",
              "      <th>HDR</th>\n",
              "      <th>ROLLING SYSTEM DEMAND</th>\n",
              "    </tr>\n",
              "  </thead>\n",
              "  <tbody>\n",
              "    <tr>\n",
              "      <th>VD</th>\n",
              "      <td>20200106234000</td>\n",
              "      <td>26540.0</td>\n",
              "    </tr>\n",
              "    <tr>\n",
              "      <th>VD</th>\n",
              "      <td>20200106234500</td>\n",
              "      <td>26474.0</td>\n",
              "    </tr>\n",
              "    <tr>\n",
              "      <th>VD</th>\n",
              "      <td>20200106235000</td>\n",
              "      <td>26235.0</td>\n",
              "    </tr>\n",
              "    <tr>\n",
              "      <th>VD</th>\n",
              "      <td>20200106235500</td>\n",
              "      <td>25988.0</td>\n",
              "    </tr>\n",
              "    <tr>\n",
              "      <th>FTR</th>\n",
              "      <td>1728</td>\n",
              "      <td>NaN</td>\n",
              "    </tr>\n",
              "  </tbody>\n",
              "</table>\n",
              "</div>"
            ],
            "text/plain": [
              "                HDR  ROLLING SYSTEM DEMAND\n",
              "VD   20200106234000                26540.0\n",
              "VD   20200106234500                26474.0\n",
              "VD   20200106235000                26235.0\n",
              "VD   20200106235500                25988.0\n",
              "FTR            1728                    NaN"
            ]
          },
          "metadata": {
            "tags": []
          },
          "execution_count": 72
        }
      ]
    },
    {
      "cell_type": "code",
      "metadata": {
        "id": "7YZ73WY6l4Z1",
        "colab_type": "code",
        "colab": {
          "base_uri": "https://localhost:8080/",
          "height": 136
        },
        "outputId": "3e22e3cc-34a7-485e-be91-c4f4e5155cfe"
      },
      "source": [
        "demand01.info()"
      ],
      "execution_count": 73,
      "outputs": [
        {
          "output_type": "stream",
          "text": [
            "<class 'pandas.core.frame.DataFrame'>\n",
            "Index: 1729 entries, VD to FTR\n",
            "Data columns (total 2 columns):\n",
            "HDR                      1729 non-null int64\n",
            "ROLLING SYSTEM DEMAND    1728 non-null float64\n",
            "dtypes: float64(1), int64(1)\n",
            "memory usage: 40.5+ KB\n"
          ],
          "name": "stdout"
        }
      ]
    },
    {
      "cell_type": "markdown",
      "metadata": {
        "id": "ziuV4G4bt22v",
        "colab_type": "text"
      },
      "source": [
        "## Step 2 - Load the next 6 days of Jan 2020."
      ]
    },
    {
      "cell_type": "code",
      "metadata": {
        "id": "R-MV5UtQldV7",
        "colab_type": "code",
        "colab": {
          "base_uri": "https://localhost:8080/",
          "height": 204
        },
        "outputId": "9347181a-52a8-4144-a40c-80f11aa9f140"
      },
      "source": [
        "demand02 = pd.read_csv('RollingSystemDemand02.csv')\n",
        "demand02.sample(5)"
      ],
      "execution_count": 74,
      "outputs": [
        {
          "output_type": "execute_result",
          "data": {
            "text/html": [
              "<div>\n",
              "<style scoped>\n",
              "    .dataframe tbody tr th:only-of-type {\n",
              "        vertical-align: middle;\n",
              "    }\n",
              "\n",
              "    .dataframe tbody tr th {\n",
              "        vertical-align: top;\n",
              "    }\n",
              "\n",
              "    .dataframe thead th {\n",
              "        text-align: right;\n",
              "    }\n",
              "</style>\n",
              "<table border=\"1\" class=\"dataframe\">\n",
              "  <thead>\n",
              "    <tr style=\"text-align: right;\">\n",
              "      <th></th>\n",
              "      <th>HDR</th>\n",
              "      <th>ROLLING SYSTEM DEMAND</th>\n",
              "    </tr>\n",
              "  </thead>\n",
              "  <tbody>\n",
              "    <tr>\n",
              "      <th>VD</th>\n",
              "      <td>20200107215500</td>\n",
              "      <td>30507.0</td>\n",
              "    </tr>\n",
              "    <tr>\n",
              "      <th>VD</th>\n",
              "      <td>20200112083500</td>\n",
              "      <td>28119.0</td>\n",
              "    </tr>\n",
              "    <tr>\n",
              "      <th>VD</th>\n",
              "      <td>20200110001500</td>\n",
              "      <td>26999.0</td>\n",
              "    </tr>\n",
              "    <tr>\n",
              "      <th>VD</th>\n",
              "      <td>20200107063000</td>\n",
              "      <td>30291.0</td>\n",
              "    </tr>\n",
              "    <tr>\n",
              "      <th>VD</th>\n",
              "      <td>20200107230500</td>\n",
              "      <td>26591.0</td>\n",
              "    </tr>\n",
              "  </tbody>\n",
              "</table>\n",
              "</div>"
            ],
            "text/plain": [
              "               HDR  ROLLING SYSTEM DEMAND\n",
              "VD  20200107215500                30507.0\n",
              "VD  20200112083500                28119.0\n",
              "VD  20200110001500                26999.0\n",
              "VD  20200107063000                30291.0\n",
              "VD  20200107230500                26591.0"
            ]
          },
          "metadata": {
            "tags": []
          },
          "execution_count": 74
        }
      ]
    },
    {
      "cell_type": "code",
      "metadata": {
        "id": "HPIdNSKwl_O4",
        "colab_type": "code",
        "colab": {
          "base_uri": "https://localhost:8080/",
          "height": 34
        },
        "outputId": "c10bed89-c05f-4d3c-b669-314248ff7cd7"
      },
      "source": [
        "demand02.shape"
      ],
      "execution_count": 75,
      "outputs": [
        {
          "output_type": "execute_result",
          "data": {
            "text/plain": [
              "(1729, 2)"
            ]
          },
          "metadata": {
            "tags": []
          },
          "execution_count": 75
        }
      ]
    },
    {
      "cell_type": "markdown",
      "metadata": {
        "id": "oXcopIdmt9yj",
        "colab_type": "text"
      },
      "source": [
        "## Step 3 - Concatenate two dataframes into one."
      ]
    },
    {
      "cell_type": "code",
      "metadata": {
        "id": "c2Ceiadall5R",
        "colab_type": "code",
        "colab": {
          "base_uri": "https://localhost:8080/",
          "height": 136
        },
        "outputId": "3ba1d366-ccde-4d46-9fb5-9d7ff683d357"
      },
      "source": [
        "demand = pd.concat([demand01,demand02])\n",
        "demand.info()"
      ],
      "execution_count": 76,
      "outputs": [
        {
          "output_type": "stream",
          "text": [
            "<class 'pandas.core.frame.DataFrame'>\n",
            "Index: 3458 entries, VD to FTR\n",
            "Data columns (total 2 columns):\n",
            "HDR                      3458 non-null int64\n",
            "ROLLING SYSTEM DEMAND    3456 non-null float64\n",
            "dtypes: float64(1), int64(1)\n",
            "memory usage: 81.0+ KB\n"
          ],
          "name": "stdout"
        }
      ]
    },
    {
      "cell_type": "markdown",
      "metadata": {
        "id": "huR6NBtHuJAv",
        "colab_type": "text"
      },
      "source": [
        "## Step 4 - Data Cleasning"
      ]
    },
    {
      "cell_type": "code",
      "metadata": {
        "id": "vL5dIg0GZ38D",
        "colab_type": "code",
        "colab": {
          "base_uri": "https://localhost:8080/",
          "height": 204
        },
        "outputId": "be6a1ec5-5bc9-4c1c-bbb5-1e95e58e64d9"
      },
      "source": [
        "demand.dropna(inplace=True)\n",
        "demand.tail()"
      ],
      "execution_count": 77,
      "outputs": [
        {
          "output_type": "execute_result",
          "data": {
            "text/html": [
              "<div>\n",
              "<style scoped>\n",
              "    .dataframe tbody tr th:only-of-type {\n",
              "        vertical-align: middle;\n",
              "    }\n",
              "\n",
              "    .dataframe tbody tr th {\n",
              "        vertical-align: top;\n",
              "    }\n",
              "\n",
              "    .dataframe thead th {\n",
              "        text-align: right;\n",
              "    }\n",
              "</style>\n",
              "<table border=\"1\" class=\"dataframe\">\n",
              "  <thead>\n",
              "    <tr style=\"text-align: right;\">\n",
              "      <th></th>\n",
              "      <th>HDR</th>\n",
              "      <th>ROLLING SYSTEM DEMAND</th>\n",
              "    </tr>\n",
              "  </thead>\n",
              "  <tbody>\n",
              "    <tr>\n",
              "      <th>VD</th>\n",
              "      <td>20200112233500</td>\n",
              "      <td>25540.0</td>\n",
              "    </tr>\n",
              "    <tr>\n",
              "      <th>VD</th>\n",
              "      <td>20200112234000</td>\n",
              "      <td>25284.0</td>\n",
              "    </tr>\n",
              "    <tr>\n",
              "      <th>VD</th>\n",
              "      <td>20200112234500</td>\n",
              "      <td>25141.0</td>\n",
              "    </tr>\n",
              "    <tr>\n",
              "      <th>VD</th>\n",
              "      <td>20200112235000</td>\n",
              "      <td>25005.0</td>\n",
              "    </tr>\n",
              "    <tr>\n",
              "      <th>VD</th>\n",
              "      <td>20200112235500</td>\n",
              "      <td>24909.0</td>\n",
              "    </tr>\n",
              "  </tbody>\n",
              "</table>\n",
              "</div>"
            ],
            "text/plain": [
              "               HDR  ROLLING SYSTEM DEMAND\n",
              "VD  20200112233500                25540.0\n",
              "VD  20200112234000                25284.0\n",
              "VD  20200112234500                25141.0\n",
              "VD  20200112235000                25005.0\n",
              "VD  20200112235500                24909.0"
            ]
          },
          "metadata": {
            "tags": []
          },
          "execution_count": 77
        }
      ]
    },
    {
      "cell_type": "code",
      "metadata": {
        "id": "TswtvcfPTg3T",
        "colab_type": "code",
        "colab": {
          "base_uri": "https://localhost:8080/",
          "height": 136
        },
        "outputId": "8a0fa063-a5b7-4241-b7f0-53f518e33ef3"
      },
      "source": [
        "demand.info()"
      ],
      "execution_count": 78,
      "outputs": [
        {
          "output_type": "stream",
          "text": [
            "<class 'pandas.core.frame.DataFrame'>\n",
            "Index: 3456 entries, VD to VD\n",
            "Data columns (total 2 columns):\n",
            "HDR                      3456 non-null int64\n",
            "ROLLING SYSTEM DEMAND    3456 non-null float64\n",
            "dtypes: float64(1), int64(1)\n",
            "memory usage: 81.0+ KB\n"
          ],
          "name": "stdout"
        }
      ]
    },
    {
      "cell_type": "code",
      "metadata": {
        "id": "WXbAnK60T9Uq",
        "colab_type": "code",
        "colab": {
          "base_uri": "https://localhost:8080/",
          "height": 68
        },
        "outputId": "880dec53-8e54-4495-fbb7-ec4ca1f1433f"
      },
      "source": [
        "demand[\"HDR\"] = demand[\"HDR\"].astype(str)\n",
        "demand.dtypes"
      ],
      "execution_count": 79,
      "outputs": [
        {
          "output_type": "execute_result",
          "data": {
            "text/plain": [
              "HDR                       object\n",
              "ROLLING SYSTEM DEMAND    float64\n",
              "dtype: object"
            ]
          },
          "metadata": {
            "tags": []
          },
          "execution_count": 79
        }
      ]
    },
    {
      "cell_type": "markdown",
      "metadata": {
        "id": "0zEj5ckPuQ61",
        "colab_type": "text"
      },
      "source": [
        "## Step 5 - Data Transformation"
      ]
    },
    {
      "cell_type": "code",
      "metadata": {
        "id": "eKDugyhGTWTD",
        "colab_type": "code",
        "colab": {
          "base_uri": "https://localhost:8080/",
          "height": 34
        },
        "outputId": "038cd574-ef11-44c6-9e1d-65045ada7602"
      },
      "source": [
        "x = \"20200102043000\"\n",
        "#    01234567890123\n",
        "x[8:10]"
      ],
      "execution_count": 80,
      "outputs": [
        {
          "output_type": "execute_result",
          "data": {
            "text/plain": [
              "'04'"
            ]
          },
          "metadata": {
            "tags": []
          },
          "execution_count": 80
        }
      ]
    },
    {
      "cell_type": "code",
      "metadata": {
        "id": "ao5Z-8h8W0j2",
        "colab_type": "code",
        "colab": {
          "base_uri": "https://localhost:8080/",
          "height": 359
        },
        "outputId": "dbbb92dc-76d0-408d-9f3a-299cdc3b4ae2"
      },
      "source": [
        "demand['HOUR'] = demand['HDR'].str[8:10]\n",
        "demand.sample(10)"
      ],
      "execution_count": 81,
      "outputs": [
        {
          "output_type": "execute_result",
          "data": {
            "text/html": [
              "<div>\n",
              "<style scoped>\n",
              "    .dataframe tbody tr th:only-of-type {\n",
              "        vertical-align: middle;\n",
              "    }\n",
              "\n",
              "    .dataframe tbody tr th {\n",
              "        vertical-align: top;\n",
              "    }\n",
              "\n",
              "    .dataframe thead th {\n",
              "        text-align: right;\n",
              "    }\n",
              "</style>\n",
              "<table border=\"1\" class=\"dataframe\">\n",
              "  <thead>\n",
              "    <tr style=\"text-align: right;\">\n",
              "      <th></th>\n",
              "      <th>HDR</th>\n",
              "      <th>ROLLING SYSTEM DEMAND</th>\n",
              "      <th>HOUR</th>\n",
              "    </tr>\n",
              "  </thead>\n",
              "  <tbody>\n",
              "    <tr>\n",
              "      <th>VD</th>\n",
              "      <td>20200104153500</td>\n",
              "      <td>34596.0</td>\n",
              "      <td>15</td>\n",
              "    </tr>\n",
              "    <tr>\n",
              "      <th>VD</th>\n",
              "      <td>20200110054500</td>\n",
              "      <td>27651.0</td>\n",
              "      <td>05</td>\n",
              "    </tr>\n",
              "    <tr>\n",
              "      <th>VD</th>\n",
              "      <td>20200107161000</td>\n",
              "      <td>40167.0</td>\n",
              "      <td>16</td>\n",
              "    </tr>\n",
              "    <tr>\n",
              "      <th>VD</th>\n",
              "      <td>20200111061000</td>\n",
              "      <td>25173.0</td>\n",
              "      <td>06</td>\n",
              "    </tr>\n",
              "    <tr>\n",
              "      <th>VD</th>\n",
              "      <td>20200112055000</td>\n",
              "      <td>23664.0</td>\n",
              "      <td>05</td>\n",
              "    </tr>\n",
              "    <tr>\n",
              "      <th>VD</th>\n",
              "      <td>20200108172000</td>\n",
              "      <td>45076.0</td>\n",
              "      <td>17</td>\n",
              "    </tr>\n",
              "    <tr>\n",
              "      <th>VD</th>\n",
              "      <td>20200108070500</td>\n",
              "      <td>34578.0</td>\n",
              "      <td>07</td>\n",
              "    </tr>\n",
              "    <tr>\n",
              "      <th>VD</th>\n",
              "      <td>20200109052500</td>\n",
              "      <td>26157.0</td>\n",
              "      <td>05</td>\n",
              "    </tr>\n",
              "    <tr>\n",
              "      <th>VD</th>\n",
              "      <td>20200108191500</td>\n",
              "      <td>43428.0</td>\n",
              "      <td>19</td>\n",
              "    </tr>\n",
              "    <tr>\n",
              "      <th>VD</th>\n",
              "      <td>20200106211500</td>\n",
              "      <td>35609.0</td>\n",
              "      <td>21</td>\n",
              "    </tr>\n",
              "  </tbody>\n",
              "</table>\n",
              "</div>"
            ],
            "text/plain": [
              "               HDR  ROLLING SYSTEM DEMAND HOUR\n",
              "VD  20200104153500                34596.0   15\n",
              "VD  20200110054500                27651.0   05\n",
              "VD  20200107161000                40167.0   16\n",
              "VD  20200111061000                25173.0   06\n",
              "VD  20200112055000                23664.0   05\n",
              "VD  20200108172000                45076.0   17\n",
              "VD  20200108070500                34578.0   07\n",
              "VD  20200109052500                26157.0   05\n",
              "VD  20200108191500                43428.0   19\n",
              "VD  20200106211500                35609.0   21"
            ]
          },
          "metadata": {
            "tags": []
          },
          "execution_count": 81
        }
      ]
    },
    {
      "cell_type": "code",
      "metadata": {
        "id": "PQgQ4IpzZGDC",
        "colab_type": "code",
        "colab": {
          "base_uri": "https://localhost:8080/",
          "height": 68
        },
        "outputId": "7d46f356-5cfd-400b-9ab2-46a67feafe7f"
      },
      "source": [
        "demand[\"HOUR\"].unique()"
      ],
      "execution_count": 82,
      "outputs": [
        {
          "output_type": "execute_result",
          "data": {
            "text/plain": [
              "array(['00', '01', '02', '03', '04', '05', '06', '07', '08', '09', '10',\n",
              "       '11', '12', '13', '14', '15', '16', '17', '18', '19', '20', '21',\n",
              "       '22', '23'], dtype=object)"
            ]
          },
          "metadata": {
            "tags": []
          },
          "execution_count": 82
        }
      ]
    },
    {
      "cell_type": "markdown",
      "metadata": {
        "id": "O_Bgj2SIue1P",
        "colab_type": "text"
      },
      "source": [
        "## Step 6 - Data Aggregation "
      ]
    },
    {
      "cell_type": "code",
      "metadata": {
        "id": "D8AcJubBcnph",
        "colab_type": "code",
        "colab": {
          "base_uri": "https://localhost:8080/",
          "height": 793
        },
        "outputId": "47d91b32-19bb-454a-f08b-9606087dcaa5"
      },
      "source": [
        "grouped = demand.groupby(\"HOUR\").mean().reset_index()\n",
        "grouped"
      ],
      "execution_count": 83,
      "outputs": [
        {
          "output_type": "execute_result",
          "data": {
            "text/html": [
              "<div>\n",
              "<style scoped>\n",
              "    .dataframe tbody tr th:only-of-type {\n",
              "        vertical-align: middle;\n",
              "    }\n",
              "\n",
              "    .dataframe tbody tr th {\n",
              "        vertical-align: top;\n",
              "    }\n",
              "\n",
              "    .dataframe thead th {\n",
              "        text-align: right;\n",
              "    }\n",
              "</style>\n",
              "<table border=\"1\" class=\"dataframe\">\n",
              "  <thead>\n",
              "    <tr style=\"text-align: right;\">\n",
              "      <th></th>\n",
              "      <th>HOUR</th>\n",
              "      <th>ROLLING SYSTEM DEMAND</th>\n",
              "    </tr>\n",
              "  </thead>\n",
              "  <tbody>\n",
              "    <tr>\n",
              "      <th>0</th>\n",
              "      <td>00</td>\n",
              "      <td>25990.881944</td>\n",
              "    </tr>\n",
              "    <tr>\n",
              "      <th>1</th>\n",
              "      <td>01</td>\n",
              "      <td>25875.604167</td>\n",
              "    </tr>\n",
              "    <tr>\n",
              "      <th>2</th>\n",
              "      <td>02</td>\n",
              "      <td>25455.326389</td>\n",
              "    </tr>\n",
              "    <tr>\n",
              "      <th>3</th>\n",
              "      <td>03</td>\n",
              "      <td>25095.881944</td>\n",
              "    </tr>\n",
              "    <tr>\n",
              "      <th>4</th>\n",
              "      <td>04</td>\n",
              "      <td>24881.472222</td>\n",
              "    </tr>\n",
              "    <tr>\n",
              "      <th>5</th>\n",
              "      <td>05</td>\n",
              "      <td>25097.138889</td>\n",
              "    </tr>\n",
              "    <tr>\n",
              "      <th>6</th>\n",
              "      <td>06</td>\n",
              "      <td>27743.736111</td>\n",
              "    </tr>\n",
              "    <tr>\n",
              "      <th>7</th>\n",
              "      <td>07</td>\n",
              "      <td>31398.034722</td>\n",
              "    </tr>\n",
              "    <tr>\n",
              "      <th>8</th>\n",
              "      <td>08</td>\n",
              "      <td>33525.527778</td>\n",
              "    </tr>\n",
              "    <tr>\n",
              "      <th>9</th>\n",
              "      <td>09</td>\n",
              "      <td>34913.381944</td>\n",
              "    </tr>\n",
              "    <tr>\n",
              "      <th>10</th>\n",
              "      <td>10</td>\n",
              "      <td>35582.520833</td>\n",
              "    </tr>\n",
              "    <tr>\n",
              "      <th>11</th>\n",
              "      <td>11</td>\n",
              "      <td>35839.861111</td>\n",
              "    </tr>\n",
              "    <tr>\n",
              "      <th>12</th>\n",
              "      <td>12</td>\n",
              "      <td>36235.312500</td>\n",
              "    </tr>\n",
              "    <tr>\n",
              "      <th>13</th>\n",
              "      <td>13</td>\n",
              "      <td>36376.222222</td>\n",
              "    </tr>\n",
              "    <tr>\n",
              "      <th>14</th>\n",
              "      <td>14</td>\n",
              "      <td>36562.729167</td>\n",
              "    </tr>\n",
              "    <tr>\n",
              "      <th>15</th>\n",
              "      <td>15</td>\n",
              "      <td>37406.326389</td>\n",
              "    </tr>\n",
              "    <tr>\n",
              "      <th>16</th>\n",
              "      <td>16</td>\n",
              "      <td>39961.916667</td>\n",
              "    </tr>\n",
              "    <tr>\n",
              "      <th>17</th>\n",
              "      <td>17</td>\n",
              "      <td>41572.375000</td>\n",
              "    </tr>\n",
              "    <tr>\n",
              "      <th>18</th>\n",
              "      <td>18</td>\n",
              "      <td>40673.187500</td>\n",
              "    </tr>\n",
              "    <tr>\n",
              "      <th>19</th>\n",
              "      <td>19</td>\n",
              "      <td>38824.812500</td>\n",
              "    </tr>\n",
              "    <tr>\n",
              "      <th>20</th>\n",
              "      <td>20</td>\n",
              "      <td>36178.277778</td>\n",
              "    </tr>\n",
              "    <tr>\n",
              "      <th>21</th>\n",
              "      <td>21</td>\n",
              "      <td>32985.479167</td>\n",
              "    </tr>\n",
              "    <tr>\n",
              "      <th>22</th>\n",
              "      <td>22</td>\n",
              "      <td>29577.645833</td>\n",
              "    </tr>\n",
              "    <tr>\n",
              "      <th>23</th>\n",
              "      <td>23</td>\n",
              "      <td>26570.486111</td>\n",
              "    </tr>\n",
              "  </tbody>\n",
              "</table>\n",
              "</div>"
            ],
            "text/plain": [
              "   HOUR  ROLLING SYSTEM DEMAND\n",
              "0    00           25990.881944\n",
              "1    01           25875.604167\n",
              "2    02           25455.326389\n",
              "3    03           25095.881944\n",
              "4    04           24881.472222\n",
              "5    05           25097.138889\n",
              "6    06           27743.736111\n",
              "7    07           31398.034722\n",
              "8    08           33525.527778\n",
              "9    09           34913.381944\n",
              "10   10           35582.520833\n",
              "11   11           35839.861111\n",
              "12   12           36235.312500\n",
              "13   13           36376.222222\n",
              "14   14           36562.729167\n",
              "15   15           37406.326389\n",
              "16   16           39961.916667\n",
              "17   17           41572.375000\n",
              "18   18           40673.187500\n",
              "19   19           38824.812500\n",
              "20   20           36178.277778\n",
              "21   21           32985.479167\n",
              "22   22           29577.645833\n",
              "23   23           26570.486111"
            ]
          },
          "metadata": {
            "tags": []
          },
          "execution_count": 83
        }
      ]
    },
    {
      "cell_type": "markdown",
      "metadata": {
        "id": "2Wvgji-wu4iy",
        "colab_type": "text"
      },
      "source": [
        "## Step 7 - Data Visualization"
      ]
    },
    {
      "cell_type": "code",
      "metadata": {
        "id": "9fRglLoUJx-O",
        "colab_type": "code",
        "colab": {
          "base_uri": "https://localhost:8080/",
          "height": 517
        },
        "outputId": "2b429536-4b69-42ab-9e3b-360ee70ab046"
      },
      "source": [
        "grouped.plot.bar(x=\"HOUR\",y=\"ROLLING SYSTEM DEMAND\", figsize=(10,8))"
      ],
      "execution_count": 84,
      "outputs": [
        {
          "output_type": "execute_result",
          "data": {
            "text/plain": [
              "<matplotlib.axes._subplots.AxesSubplot at 0x7f8b76ea01d0>"
            ]
          },
          "metadata": {
            "tags": []
          },
          "execution_count": 84
        },
        {
          "output_type": "display_data",
          "data": {
            "image/png": "[encoded data removed]",
            "text/plain": [
              "<Figure size 720x576 with 1 Axes>"
            ]
          },
          "metadata": {
            "tags": []
          }
        }
      ]
    },
    {
      "cell_type": "markdown",
      "metadata": {
        "id": "7NNM8qKtu89y",
        "colab_type": "text"
      },
      "source": [
        "## Repeat Step 5 to 7 for \"Day\""
      ]
    },
    {
      "cell_type": "code",
      "metadata": {
        "id": "se3zM-UTgZER",
        "colab_type": "code",
        "colab": {
          "base_uri": "https://localhost:8080/",
          "height": 359
        },
        "outputId": "5310ddf0-f9c4-490e-fa07-e6f96bff7486"
      },
      "source": [
        "demand['DAY'] = demand['HDR'].str[6:8]\n",
        "demand.sample(10)"
      ],
      "execution_count": 85,
      "outputs": [
        {
          "output_type": "execute_result",
          "data": {
            "text/html": [
              "<div>\n",
              "<style scoped>\n",
              "    .dataframe tbody tr th:only-of-type {\n",
              "        vertical-align: middle;\n",
              "    }\n",
              "\n",
              "    .dataframe tbody tr th {\n",
              "        vertical-align: top;\n",
              "    }\n",
              "\n",
              "    .dataframe thead th {\n",
              "        text-align: right;\n",
              "    }\n",
              "</style>\n",
              "<table border=\"1\" class=\"dataframe\">\n",
              "  <thead>\n",
              "    <tr style=\"text-align: right;\">\n",
              "      <th></th>\n",
              "      <th>HDR</th>\n",
              "      <th>ROLLING SYSTEM DEMAND</th>\n",
              "      <th>HOUR</th>\n",
              "      <th>DAY</th>\n",
              "    </tr>\n",
              "  </thead>\n",
              "  <tbody>\n",
              "    <tr>\n",
              "      <th>VD</th>\n",
              "      <td>20200107115500</td>\n",
              "      <td>37821.0</td>\n",
              "      <td>11</td>\n",
              "      <td>07</td>\n",
              "    </tr>\n",
              "    <tr>\n",
              "      <th>VD</th>\n",
              "      <td>20200106024500</td>\n",
              "      <td>25939.0</td>\n",
              "      <td>02</td>\n",
              "      <td>06</td>\n",
              "    </tr>\n",
              "    <tr>\n",
              "      <th>VD</th>\n",
              "      <td>20200103184500</td>\n",
              "      <td>41401.0</td>\n",
              "      <td>18</td>\n",
              "      <td>03</td>\n",
              "    </tr>\n",
              "    <tr>\n",
              "      <th>VD</th>\n",
              "      <td>20200112050000</td>\n",
              "      <td>23910.0</td>\n",
              "      <td>05</td>\n",
              "      <td>12</td>\n",
              "    </tr>\n",
              "    <tr>\n",
              "      <th>VD</th>\n",
              "      <td>20200103101000</td>\n",
              "      <td>37627.0</td>\n",
              "      <td>10</td>\n",
              "      <td>03</td>\n",
              "    </tr>\n",
              "    <tr>\n",
              "      <th>VD</th>\n",
              "      <td>20200101204000</td>\n",
              "      <td>32343.0</td>\n",
              "      <td>20</td>\n",
              "      <td>01</td>\n",
              "    </tr>\n",
              "    <tr>\n",
              "      <th>VD</th>\n",
              "      <td>20200107190500</td>\n",
              "      <td>39603.0</td>\n",
              "      <td>19</td>\n",
              "      <td>07</td>\n",
              "    </tr>\n",
              "    <tr>\n",
              "      <th>VD</th>\n",
              "      <td>20200104171500</td>\n",
              "      <td>39161.0</td>\n",
              "      <td>17</td>\n",
              "      <td>04</td>\n",
              "    </tr>\n",
              "    <tr>\n",
              "      <th>VD</th>\n",
              "      <td>20200106105000</td>\n",
              "      <td>38258.0</td>\n",
              "      <td>10</td>\n",
              "      <td>06</td>\n",
              "    </tr>\n",
              "    <tr>\n",
              "      <th>VD</th>\n",
              "      <td>20200111213000</td>\n",
              "      <td>31148.0</td>\n",
              "      <td>21</td>\n",
              "      <td>11</td>\n",
              "    </tr>\n",
              "  </tbody>\n",
              "</table>\n",
              "</div>"
            ],
            "text/plain": [
              "               HDR  ROLLING SYSTEM DEMAND HOUR DAY\n",
              "VD  20200107115500                37821.0   11  07\n",
              "VD  20200106024500                25939.0   02  06\n",
              "VD  20200103184500                41401.0   18  03\n",
              "VD  20200112050000                23910.0   05  12\n",
              "VD  20200103101000                37627.0   10  03\n",
              "VD  20200101204000                32343.0   20  01\n",
              "VD  20200107190500                39603.0   19  07\n",
              "VD  20200104171500                39161.0   17  04\n",
              "VD  20200106105000                38258.0   10  06\n",
              "VD  20200111213000                31148.0   21  11"
            ]
          },
          "metadata": {
            "tags": []
          },
          "execution_count": 85
        }
      ]
    },
    {
      "cell_type": "code",
      "metadata": {
        "id": "FPk-RzokgvtV",
        "colab_type": "code",
        "colab": {
          "base_uri": "https://localhost:8080/",
          "height": 51
        },
        "outputId": "b7798357-2eab-4c48-ddb9-9584701ce218"
      },
      "source": [
        "demand[\"DAY\"].unique()"
      ],
      "execution_count": 86,
      "outputs": [
        {
          "output_type": "execute_result",
          "data": {
            "text/plain": [
              "array(['01', '02', '03', '04', '05', '06', '07', '08', '09', '10', '11',\n",
              "       '12'], dtype=object)"
            ]
          },
          "metadata": {
            "tags": []
          },
          "execution_count": 86
        }
      ]
    },
    {
      "cell_type": "code",
      "metadata": {
        "id": "JYt8AnRSg7R7",
        "colab_type": "code",
        "colab": {
          "base_uri": "https://localhost:8080/",
          "height": 421
        },
        "outputId": "611618c4-ddbd-4e9e-c27d-f8e06dc5d944"
      },
      "source": [
        "grouped_day = demand.groupby(\"DAY\").sum().reset_index()\n",
        "grouped_day"
      ],
      "execution_count": 87,
      "outputs": [
        {
          "output_type": "execute_result",
          "data": {
            "text/html": [
              "<div>\n",
              "<style scoped>\n",
              "    .dataframe tbody tr th:only-of-type {\n",
              "        vertical-align: middle;\n",
              "    }\n",
              "\n",
              "    .dataframe tbody tr th {\n",
              "        vertical-align: top;\n",
              "    }\n",
              "\n",
              "    .dataframe thead th {\n",
              "        text-align: right;\n",
              "    }\n",
              "</style>\n",
              "<table border=\"1\" class=\"dataframe\">\n",
              "  <thead>\n",
              "    <tr style=\"text-align: right;\">\n",
              "      <th></th>\n",
              "      <th>DAY</th>\n",
              "      <th>ROLLING SYSTEM DEMAND</th>\n",
              "    </tr>\n",
              "  </thead>\n",
              "  <tbody>\n",
              "    <tr>\n",
              "      <th>0</th>\n",
              "      <td>01</td>\n",
              "      <td>8569317.0</td>\n",
              "    </tr>\n",
              "    <tr>\n",
              "      <th>1</th>\n",
              "      <td>02</td>\n",
              "      <td>9307979.0</td>\n",
              "    </tr>\n",
              "    <tr>\n",
              "      <th>2</th>\n",
              "      <td>03</td>\n",
              "      <td>9558818.0</td>\n",
              "    </tr>\n",
              "    <tr>\n",
              "      <th>3</th>\n",
              "      <td>04</td>\n",
              "      <td>8979903.0</td>\n",
              "    </tr>\n",
              "    <tr>\n",
              "      <th>4</th>\n",
              "      <td>05</td>\n",
              "      <td>8778245.0</td>\n",
              "    </tr>\n",
              "    <tr>\n",
              "      <th>5</th>\n",
              "      <td>06</td>\n",
              "      <td>9913320.0</td>\n",
              "    </tr>\n",
              "    <tr>\n",
              "      <th>6</th>\n",
              "      <td>07</td>\n",
              "      <td>9727564.0</td>\n",
              "    </tr>\n",
              "    <tr>\n",
              "      <th>7</th>\n",
              "      <td>08</td>\n",
              "      <td>10286331.0</td>\n",
              "    </tr>\n",
              "    <tr>\n",
              "      <th>8</th>\n",
              "      <td>09</td>\n",
              "      <td>10270638.0</td>\n",
              "    </tr>\n",
              "    <tr>\n",
              "      <th>9</th>\n",
              "      <td>10</td>\n",
              "      <td>10000573.0</td>\n",
              "    </tr>\n",
              "    <tr>\n",
              "      <th>10</th>\n",
              "      <td>11</td>\n",
              "      <td>8730599.0</td>\n",
              "    </tr>\n",
              "    <tr>\n",
              "      <th>11</th>\n",
              "      <td>12</td>\n",
              "      <td>8819389.0</td>\n",
              "    </tr>\n",
              "  </tbody>\n",
              "</table>\n",
              "</div>"
            ],
            "text/plain": [
              "   DAY  ROLLING SYSTEM DEMAND\n",
              "0   01              8569317.0\n",
              "1   02              9307979.0\n",
              "2   03              9558818.0\n",
              "3   04              8979903.0\n",
              "4   05              8778245.0\n",
              "5   06              9913320.0\n",
              "6   07              9727564.0\n",
              "7   08             10286331.0\n",
              "8   09             10270638.0\n",
              "9   10             10000573.0\n",
              "10  11              8730599.0\n",
              "11  12              8819389.0"
            ]
          },
          "metadata": {
            "tags": []
          },
          "execution_count": 87
        }
      ]
    },
    {
      "cell_type": "code",
      "metadata": {
        "id": "6VrPpED9hKhr",
        "colab_type": "code",
        "colab": {
          "base_uri": "https://localhost:8080/",
          "height": 745
        },
        "outputId": "ce557e58-567a-4f3b-d4fb-b84a5e9904da"
      },
      "source": [
        "grouped_day.plot.bar(x=\"DAY\",y=\"ROLLING SYSTEM DEMAND\", figsize=(10,12),)"
      ],
      "execution_count": 88,
      "outputs": [
        {
          "output_type": "execute_result",
          "data": {
            "text/plain": [
              "<matplotlib.axes._subplots.AxesSubplot at 0x7f8b76da1518>"
            ]
          },
          "metadata": {
            "tags": []
          },
          "execution_count": 88
        },
        {
          "output_type": "display_data",
          "data": {
            "image/png": "[encoded data removed]",
            "text/plain": [
              "<Figure size 720x864 with 1 Axes>"
            ]
          },
          "metadata": {
            "tags": []
          }
        }
      ]
    }
  ]
}